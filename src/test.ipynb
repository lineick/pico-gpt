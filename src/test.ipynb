{
 "cells": [
  {
   "cell_type": "code",
   "execution_count": null,
   "metadata": {},
   "outputs": [],
   "source": [
    "import torch\n",
    "import torch.nn as nn\n",
    "from torch.nn import functional as F\n",
    "\n",
    "from gpt import Head, MultiHeadAttention, FeedForward, Block, GPTLanguageModel\n",
    "\n",
    "device = 'cuda' if torch.cuda.is_available() else 'cpu'\n",
    "print(f\"Using device: {device}\")\n",
    "\n",
    "model_path = '../data/models/gpt_simon_1000.pth'  # Update with your model path\n",
    "checkpoint = torch.load(model_path, map_location=device)\n",
    "\n",
    "vocab_size = checkpoint['vocab_size']\n",
    "stoi = checkpoint['stoi']\n",
    "itos = checkpoint['itos']\n",
    "n_embd = checkpoint['n_embd']\n",
    "n_head = checkpoint['n_head']\n",
    "n_layer = checkpoint['n_layer']\n",
    "block_size = checkpoint['block_size']\n",
    "dropout = checkpoint['dropout']\n",
    "\n",
    "model = GPTLanguageModel(\n",
    "        vocab_size=vocab_size,\n",
    "        n_embd=n_embd,\n",
    "        n_head=n_head,\n",
    "        n_layer=n_layer,\n",
    "        block_size=block_size,\n",
    "        dropout=dropout,\n",
    "        device=device,\n",
    "    ).to(device)\n",
    "model.load_state_dict(checkpoint['model_state_dict'])\n",
    "model.eval()\n",
    "\n",
    "encode = lambda s: [stoi.get(c, 0) for c in s] \n",
    "decode = lambda l: ''.join([itos.get(i, '') for i in l])\n",
    "\n",
    "def generate_text(prompt, max_new_tokens=100):\n",
    "    idx = torch.tensor([encode(prompt)], dtype=torch.long).to(device)\n",
    "    idx_new = model.generate(idx, max_new_tokens)\n",
    "    generated_text = decode(idx_new[0].tolist())\n",
    "    return generated_text\n",
    "\n",
    "prompt = \"L\"\n",
    "generated = generate_text(prompt, max_new_tokens=200)\n",
    "print(generated)\n",
    "\n",
    "def evaluate_model(test_text):\n",
    "    data = torch.tensor(encode(test_text), dtype=torch.long).to(device)\n",
    "    block_size = model.position_embedding_table.num_embeddings\n",
    "    losses = []\n",
    "    model.eval()\n",
    "    with torch.no_grad():\n",
    "        for i in range(0, data.size(0) - block_size, block_size):\n",
    "            x = data[i:i+block_size].unsqueeze(0)\n",
    "            y = data[i+1:i+block_size+1].unsqueeze(0)\n",
    "            x, y = x.to(device), y.to(device)\n",
    "            _, loss = model(x, y)\n",
    "            losses.append(loss.item())\n",
    "    avg_loss = sum(losses) / len(losses)\n",
    "    print(f\"Average loss on test dataset: {avg_loss:.4f}\")\n",
    "\n",
    "# If you have a test dataset\n",
    "# test_text = open('/path/to/test.txt', 'r', encoding='utf-8').read()\n",
    "# evaluate_model(test_text)\n"
   ]
  },
  {
   "cell_type": "code",
   "execution_count": null,
   "metadata": {},
   "outputs": [],
   "source": [
    "generated = generate_text(prompt, max_new_tokens=1500)\n",
    "print(generated)"
   ]
  },
  {
   "cell_type": "code",
   "execution_count": null,
   "metadata": {},
   "outputs": [],
   "source": []
  }
 ],
 "metadata": {
  "kernelspec": {
   "display_name": "venv",
   "language": "python",
   "name": "python3"
  },
  "language_info": {
   "codemirror_mode": {
    "name": "ipython",
    "version": 3
   },
   "file_extension": ".py",
   "mimetype": "text/x-python",
   "name": "python",
   "nbconvert_exporter": "python",
   "pygments_lexer": "ipython3",
   "version": "3.12.7"
  }
 },
 "nbformat": 4,
 "nbformat_minor": 2
}
